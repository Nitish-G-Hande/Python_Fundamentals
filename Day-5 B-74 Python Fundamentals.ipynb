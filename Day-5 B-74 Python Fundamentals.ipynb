{
 "cells": [
  {
   "cell_type": "code",
   "execution_count": 23,
   "id": "4dafed0f",
   "metadata": {},
   "outputs": [],
   "source": [
    "chocolate=['kit-kat','munch','dairymilk','perk','kinderjoy','gems']"
   ]
  },
  {
   "cell_type": "code",
   "execution_count": 24,
   "id": "8a21b32f",
   "metadata": {},
   "outputs": [
    {
     "name": "stdout",
     "output_type": "stream",
     "text": [
      "['kit-kat', 'munch', 'dairymilk', 'perk', 'kinderjoy', 'gems']\n"
     ]
    }
   ],
   "source": [
    "print(chocolate)"
   ]
  },
  {
   "cell_type": "code",
   "execution_count": 25,
   "id": "f1610c80",
   "metadata": {},
   "outputs": [
    {
     "name": "stdout",
     "output_type": "stream",
     "text": [
      "['dairymilk', 'gems', 'kinderjoy', 'kit-kat', 'munch', 'perk']\n"
     ]
    }
   ],
   "source": [
    "print(sorted(chocolate))"
   ]
  },
  {
   "cell_type": "code",
   "execution_count": 26,
   "id": "8a17a3d2",
   "metadata": {},
   "outputs": [
    {
     "name": "stdout",
     "output_type": "stream",
     "text": [
      "['dairymilk', 'gems', 'kinderjoy', 'kit-kat', 'munch', 'perk']\n"
     ]
    }
   ],
   "source": [
    "chocolate.sort()\n",
    "print(chocolate)"
   ]
  },
  {
   "cell_type": "code",
   "execution_count": 27,
   "id": "2bef49c4",
   "metadata": {},
   "outputs": [
    {
     "name": "stdout",
     "output_type": "stream",
     "text": [
      "['dairymilk', 'gems', 'kinderjoy', 'kit-kat', 'munch', 'perk']\n"
     ]
    }
   ],
   "source": [
    "print(chocolate)"
   ]
  },
  {
   "cell_type": "code",
   "execution_count": 28,
   "id": "e9dc9a5e",
   "metadata": {},
   "outputs": [
    {
     "name": "stdout",
     "output_type": "stream",
     "text": [
      "['perk', 'munch', 'kit-kat', 'kinderjoy', 'gems', 'dairymilk']\n"
     ]
    }
   ],
   "source": [
    "chocolate.reverse()\n",
    "print(chocolate)"
   ]
  },
  {
   "cell_type": "code",
   "execution_count": 29,
   "id": "b3f28c14",
   "metadata": {},
   "outputs": [
    {
     "data": {
      "text/plain": [
       "6"
      ]
     },
     "execution_count": 29,
     "metadata": {},
     "output_type": "execute_result"
    }
   ],
   "source": [
    "len(chocolate)"
   ]
  },
  {
   "cell_type": "code",
   "execution_count": 17,
   "id": "a8c3bbfc",
   "metadata": {},
   "outputs": [
    {
     "name": "stdout",
     "output_type": "stream",
     "text": [
      "['maruthi']\n"
     ]
    }
   ],
   "source": [
    "cars=['maruthi','honda','kia','benz','bmw','audi']\n",
    "print(cars[0:1])"
   ]
  },
  {
   "cell_type": "code",
   "execution_count": 18,
   "id": "bfb5a22f",
   "metadata": {},
   "outputs": [
    {
     "name": "stdout",
     "output_type": "stream",
     "text": [
      "['maruthi', 'honda']\n"
     ]
    }
   ],
   "source": [
    "print(cars[0:2])"
   ]
  },
  {
   "cell_type": "code",
   "execution_count": 19,
   "id": "1b39a0b5",
   "metadata": {},
   "outputs": [
    {
     "name": "stdout",
     "output_type": "stream",
     "text": [
      "['kia', 'benz', 'bmw', 'audi']\n"
     ]
    }
   ],
   "source": [
    "print(cars[2:7])"
   ]
  },
  {
   "cell_type": "code",
   "execution_count": 20,
   "id": "2a74bf10",
   "metadata": {},
   "outputs": [
    {
     "name": "stdout",
     "output_type": "stream",
     "text": [
      "['maruthi', 'kia', 'bmw']\n"
     ]
    }
   ],
   "source": [
    "print(cars[0:7:2])"
   ]
  },
  {
   "cell_type": "code",
   "execution_count": 21,
   "id": "4bdd3a39",
   "metadata": {},
   "outputs": [
    {
     "name": "stdout",
     "output_type": "stream",
     "text": [
      "['honda', 'benz', 'audi']\n"
     ]
    }
   ],
   "source": [
    "print(cars[1:7:2])"
   ]
  }
 ],
 "metadata": {
  "kernelspec": {
   "display_name": "Python 3 (ipykernel)",
   "language": "python",
   "name": "python3"
  },
  "language_info": {
   "codemirror_mode": {
    "name": "ipython",
    "version": 3
   },
   "file_extension": ".py",
   "mimetype": "text/x-python",
   "name": "python",
   "nbconvert_exporter": "python",
   "pygments_lexer": "ipython3",
   "version": "3.9.13"
  }
 },
 "nbformat": 4,
 "nbformat_minor": 5
}
